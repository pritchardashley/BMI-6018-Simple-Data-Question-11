{
 "cells": [
  {
   "cell_type": "code",
   "execution_count": null,
   "id": "373996aa-4782-47fb-b4aa-3509e3c8a596",
   "metadata": {},
   "outputs": [],
   "source": [
    "#Question 11 on Simple Data Assignment"
   ]
  },
  {
   "cell_type": "code",
   "execution_count": 35,
   "id": "b8c7b608-1bd9-4844-9d3a-cde6a9aed55b",
   "metadata": {},
   "outputs": [],
   "source": [
    "#Booleans - question 1"
   ]
  },
  {
   "cell_type": "code",
   "execution_count": null,
   "id": "2a9acef5-1dad-4aaf-a46c-ed99d389e6ef",
   "metadata": {},
   "outputs": [],
   "source": [
    "#boolean True + boolean True - boolean False = ?"
   ]
  },
  {
   "cell_type": "code",
   "execution_count": 2,
   "id": "dbd2aedc-1ebe-4dba-8741-774769e164f6",
   "metadata": {},
   "outputs": [
    {
     "data": {
      "text/plain": [
       "2"
      ]
     },
     "execution_count": 2,
     "metadata": {},
     "output_type": "execute_result"
    }
   ],
   "source": [
    "bool(True) + bool(True) - bool(False)"
   ]
  },
  {
   "cell_type": "code",
   "execution_count": 7,
   "id": "59b12f55-3634-4448-b692-3ec4851beaf9",
   "metadata": {},
   "outputs": [
    {
     "name": "stdout",
     "output_type": "stream",
     "text": [
      "2\n"
     ]
    }
   ],
   "source": [
    "print(bool(True) + bool(True) - bool(False))"
   ]
  },
  {
   "cell_type": "code",
   "execution_count": 36,
   "id": "ab3d8039-ba3f-480a-934d-999611f0b96b",
   "metadata": {},
   "outputs": [],
   "source": [
    "#Booleans 2 - question 2"
   ]
  },
  {
   "cell_type": "code",
   "execution_count": null,
   "id": "c6cda0bc-2527-476d-b904-5b145f1d9b7d",
   "metadata": {},
   "outputs": [],
   "source": [
    "#logical tracker = True\n",
    "#logical tracker = logical tracker & logical tracker\n",
    "#logical tracker = logical tracker | (logical tracker - logical tracker)\n",
    "#logical tracker  = ?"
   ]
  },
  {
   "cell_type": "code",
   "execution_count": 6,
   "id": "656e852d-e6cf-4c03-a731-0d2e51ccda8b",
   "metadata": {},
   "outputs": [
    {
     "name": "stdout",
     "output_type": "stream",
     "text": [
      "1\n"
     ]
    }
   ],
   "source": [
    "logical_tracker = True\n",
    "logical_tracker = logical_tracker & logical_tracker\n",
    "logical_tracker = logical_tracker | (logical_tracker - logical_tracker)\n",
    "print(logical_tracker)"
   ]
  },
  {
   "cell_type": "code",
   "execution_count": 43,
   "id": "e883114f-a659-45d7-843c-5a8840c686b3",
   "metadata": {},
   "outputs": [],
   "source": [
    "# logical tracker = true (1)\n",
    "# true and true (1) = true (1)\n",
    "# true (1) or (|) True (1) - True (1) -> 1 OR 1 -1 = 0 -> 1 or 0 == True (1)\n",
    "# all previous are true == logical tracker = true\n",
    "# I am not sure if I am using == or = correctly"
   ]
  },
  {
   "cell_type": "code",
   "execution_count": 37,
   "id": "6a09c291-5793-41dd-951b-ca367c2eae05",
   "metadata": {},
   "outputs": [],
   "source": [
    "#Strings - question 5"
   ]
  },
  {
   "cell_type": "code",
   "execution_count": null,
   "id": "53abc286-fa23-4ef9-ac5d-90e8ccf4b314",
   "metadata": {},
   "outputs": [],
   "source": [
    "#string = \"E. Coli\"\n",
    "#string[2]="
   ]
  },
  {
   "cell_type": "code",
   "execution_count": 11,
   "id": "bab356f6-5884-4fe1-8157-ab3a649818eb",
   "metadata": {},
   "outputs": [
    {
     "name": "stdout",
     "output_type": "stream",
     "text": [
      " \n"
     ]
    }
   ],
   "source": [
    "string = \"E. Coli\"\n",
    "print(string[2])"
   ]
  },
  {
   "cell_type": "code",
   "execution_count": 38,
   "id": "7a2d0553-6b39-430a-a470-9168dda174a9",
   "metadata": {},
   "outputs": [],
   "source": [
    "#Strings 2 - question 6"
   ]
  },
  {
   "cell_type": "code",
   "execution_count": 31,
   "id": "7fe64005-bcf4-4f56-82ad-bab556380b56",
   "metadata": {},
   "outputs": [],
   "source": [
    "#Oh no! My string has a typo!\n",
    "#string = \"I Bove python\"\n",
    "#No worries though. I'll just fix that.\n",
    "#string[2]=\"L\""
   ]
  },
  {
   "cell_type": "code",
   "execution_count": 14,
   "id": "83dd5b43-90fa-45d6-bb91-f78fccdb4cbd",
   "metadata": {},
   "outputs": [
    {
     "ename": "TypeError",
     "evalue": "'str' object does not support item assignment",
     "output_type": "error",
     "traceback": [
      "\u001b[0;31m---------------------------------------------------------------------------\u001b[0m",
      "\u001b[0;31mTypeError\u001b[0m                                 Traceback (most recent call last)",
      "Cell \u001b[0;32mIn[14], line 2\u001b[0m\n\u001b[1;32m      1\u001b[0m string \u001b[38;5;241m=\u001b[39m \u001b[38;5;124m\"\u001b[39m\u001b[38;5;124mI Bove python\u001b[39m\u001b[38;5;124m\"\u001b[39m\n\u001b[0;32m----> 2\u001b[0m \u001b[43mstring\u001b[49m\u001b[43m[\u001b[49m\u001b[38;5;241;43m2\u001b[39;49m\u001b[43m]\u001b[49m \u001b[38;5;241m=\u001b[39m \u001b[38;5;124m\"\u001b[39m\u001b[38;5;124mL\u001b[39m\u001b[38;5;124m\"\u001b[39m\n",
      "\u001b[0;31mTypeError\u001b[0m: 'str' object does not support item assignment"
     ]
    }
   ],
   "source": [
    "string = \"I Bove python\"\n",
    "string[2] = \"L\""
   ]
  },
  {
   "cell_type": "code",
   "execution_count": 41,
   "id": "b70a4869-35f3-40f2-9889-4be34e84e99f",
   "metadata": {},
   "outputs": [],
   "source": [
    "#cannot make changes to a string, only way to \"correct\" the string is to make a new one and use that to replace the old."
   ]
  },
  {
   "cell_type": "code",
   "execution_count": 39,
   "id": "9c9cd989-3ec8-44e6-8d36-98bd88c50b25",
   "metadata": {},
   "outputs": [],
   "source": [
    "#Operators 2 - question 9"
   ]
  },
  {
   "cell_type": "code",
   "execution_count": 33,
   "id": "1a0f9660-3602-4371-9c4e-0fcc73312ed4",
   "metadata": {},
   "outputs": [],
   "source": [
    "#Explain how the \"+\", addition operation works differently for integers and strings."
   ]
  },
  {
   "cell_type": "code",
   "execution_count": 17,
   "id": "7b6e8192-69ef-4db1-a8d6-a4f42f3a6f77",
   "metadata": {},
   "outputs": [
    {
     "ename": "SyntaxError",
     "evalue": "unterminated string literal (detected at line 1) (2098100450.py, line 1)",
     "output_type": "error",
     "traceback": [
      "\u001b[0;36m  Cell \u001b[0;32mIn[17], line 1\u001b[0;36m\u001b[0m\n\u001b[0;31m    print(3 + 'hospitals)\u001b[0m\n\u001b[0m              ^\u001b[0m\n\u001b[0;31mSyntaxError\u001b[0m\u001b[0;31m:\u001b[0m unterminated string literal (detected at line 1)\n"
     ]
    }
   ],
   "source": [
    "print(3 + 'hospitals)"
   ]
  },
  {
   "cell_type": "code",
   "execution_count": 18,
   "id": "0477de95-0c5c-4f43-a093-7a1f958163e8",
   "metadata": {},
   "outputs": [
    {
     "name": "stdout",
     "output_type": "stream",
     "text": [
      "3hospitals\n"
     ]
    }
   ],
   "source": [
    "print(str(3) + 'hospitals')"
   ]
  },
  {
   "cell_type": "code",
   "execution_count": 21,
   "id": "280a52ba-ad8e-4720-ac47-6e7b03515fa0",
   "metadata": {},
   "outputs": [
    {
     "name": "stdout",
     "output_type": "stream",
     "text": [
      "3hospitals\n"
     ]
    }
   ],
   "source": [
    "num = 3\n",
    "my_string = 'hospitals'\n",
    "num = str(3)\n",
    "print(num + my_string)"
   ]
  },
  {
   "cell_type": "code",
   "execution_count": 28,
   "id": "0244761b-5380-4629-81e5-c68efdbc4d75",
   "metadata": {},
   "outputs": [
    {
     "name": "stdout",
     "output_type": "stream",
     "text": [
      "8.5\n"
     ]
    }
   ],
   "source": [
    "#adding an integer + float\n",
    "print(4 + 4.5)"
   ]
  },
  {
   "cell_type": "code",
   "execution_count": null,
   "id": "3f2776e5-0681-411d-85f6-6d97cfffd552",
   "metadata": {},
   "outputs": [],
   "source": []
  },
  {
   "cell_type": "code",
   "execution_count": 23,
   "id": "8ffd7ca7-22d0-4a96-8c82-7186d512ee91",
   "metadata": {},
   "outputs": [
    {
     "name": "stdout",
     "output_type": "stream",
     "text": [
      "threehospitals\n"
     ]
    }
   ],
   "source": [
    "#adding a string + string\n",
    "print('three' + 'hospitals')"
   ]
  },
  {
   "cell_type": "code",
   "execution_count": 40,
   "id": "0a2093a0-27cf-4c00-9226-e1a59fc6ee10",
   "metadata": {},
   "outputs": [],
   "source": [
    "#Strings 3 - question 10"
   ]
  },
  {
   "cell_type": "code",
   "execution_count": null,
   "id": "0853251f-6563-4198-88ea-bb1afb29b8b4",
   "metadata": {},
   "outputs": [],
   "source": []
  },
  {
   "cell_type": "code",
   "execution_count": null,
   "id": "e13bf1ec-6d7f-45bd-85fa-5a800745d8a0",
   "metadata": {},
   "outputs": [],
   "source": []
  },
  {
   "cell_type": "code",
   "execution_count": null,
   "id": "f98d7328-33ef-4349-9148-a3509a676a5a",
   "metadata": {},
   "outputs": [],
   "source": [
    "#Type the output if the strings \"7\" and \"3\" are added."
   ]
  },
  {
   "cell_type": "code",
   "execution_count": 27,
   "id": "665c45c5-880b-40f3-bbfb-ca083c316316",
   "metadata": {},
   "outputs": [
    {
     "name": "stdout",
     "output_type": "stream",
     "text": [
      "73\n"
     ]
    }
   ],
   "source": [
    "print(str(7) + str(3))"
   ]
  }
 ],
 "metadata": {
  "kernelspec": {
   "display_name": "Python 3 (ipykernel)",
   "language": "python",
   "name": "python3"
  },
  "language_info": {
   "codemirror_mode": {
    "name": "ipython",
    "version": 3
   },
   "file_extension": ".py",
   "mimetype": "text/x-python",
   "name": "python",
   "nbconvert_exporter": "python",
   "pygments_lexer": "ipython3",
   "version": "3.12.4"
  }
 },
 "nbformat": 4,
 "nbformat_minor": 5
}
